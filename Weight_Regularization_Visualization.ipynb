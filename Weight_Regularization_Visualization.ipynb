{
 "cells": [
  {
   "cell_type": "code",
   "execution_count": 1,
   "metadata": {
    "collapsed": false
   },
   "outputs": [
    {
     "name": "stderr",
     "output_type": "stream",
     "text": [
      "Using Theano backend.\n",
      "Using gpu device 0: GeForce GTX TITAN X (CNMeM is disabled, cuDNN 5005)\n"
     ]
    }
   ],
   "source": [
    "from __future__ import print_function\n",
    "# To run on gpu\n",
    "import os    \n",
    "os.environ['THEANO_FLAGS'] = \"device=gpu0\"\n",
    "import numpy as np\n",
    "np.random.seed(1337)  # for reproducibility\n",
    "\n",
    "from keras.datasets import mnist\n",
    "from keras.models import Sequential\n",
    "from keras.layers import Dense, Dropout, Activation, Flatten\n",
    "from keras.layers import Convolution2D, MaxPooling2D\n",
    "from keras.utils import np_utils\n",
    "from keras.optimizers import *\n",
    "from keras import callbacks\n",
    "from keras.regularizers import l2, activity_l2\n",
    "import keras\n",
    "from pprint import *\n",
    "%matplotlib inline\n",
    "import matplotlib.pyplot as plt"
   ]
  },
  {
   "cell_type": "code",
   "execution_count": 2,
   "metadata": {
    "collapsed": false
   },
   "outputs": [
    {
     "name": "stdout",
     "output_type": "stream",
     "text": [
      "{'batch_size': 256,\n",
      " 'data_augmentation': False,\n",
      " 'decay': 1e-06,\n",
      " 'img_cols': 28,\n",
      " 'img_rows': 28,\n",
      " 'init': 'uniform',\n",
      " 'loss': 'categorical_crossentropy',\n",
      " 'lr': 0.01,\n",
      " 'momentum': 0.9,\n",
      " 'nb_classes': 10,\n",
      " 'nb_epoch': 5,\n",
      " 'nesterov': True,\n",
      " 'optimizer': 'sgd'}\n"
     ]
    }
   ],
   "source": [
    "opt = {\n",
    "    'batch_size': 256,\n",
    "    'nb_classes': 10,\n",
    "    'nb_epoch':5,\n",
    "    'data_augmentation': False,\n",
    "    'lr':0.01,\n",
    "    'momentum':0.9,\n",
    "    'decay':1e-6,\n",
    "    'nesterov':True,\n",
    "    'init':'uniform',\n",
    "    'optimizer':'sgd',\n",
    "    'loss':'categorical_crossentropy',\n",
    "    'img_rows':28,\n",
    "    'img_cols':28\n",
    "}\n",
    "\n",
    "pprint(opt)"
   ]
  },
  {
   "cell_type": "code",
   "execution_count": 3,
   "metadata": {
    "collapsed": false
   },
   "outputs": [
    {
     "name": "stdout",
     "output_type": "stream",
     "text": [
      "X_train shape: (60000, 1, 28, 28)\n",
      "60000 train samples\n",
      "10000 test samples\n"
     ]
    }
   ],
   "source": [
    "# the data, shuffled and split between train and test sets\n",
    "(X_train, y_train), (X_test, y_test) = mnist.load_data()\n",
    "\n",
    "X_train = X_train.reshape(X_train.shape[0], 1, opt['img_rows'], opt['img_cols'])\n",
    "X_test = X_test.reshape(X_test.shape[0], 1, opt['img_rows'], opt['img_cols'])\n",
    "X_train = X_train.astype('float32')\n",
    "X_test = X_test.astype('float32')\n",
    "X_train /= 255\n",
    "X_test /= 255\n",
    "print('X_train shape:', X_train.shape)\n",
    "print(X_train.shape[0], 'train samples')\n",
    "print(X_test.shape[0], 'test samples')\n",
    "# convert class vectors to binary class matrices\n",
    "Y_train = np_utils.to_categorical(y_train, opt['nb_classes'])\n",
    "Y_test = np_utils.to_categorical(y_test, opt['nb_classes'])\n"
   ]
  },
  {
   "cell_type": "code",
   "execution_count": 4,
   "metadata": {
    "collapsed": true
   },
   "outputs": [],
   "source": [
    "def plotLogs(stats,name):\n",
    "    epochs=list(range(1,opt['nb_epoch']+1))\n",
    "    train_acc= stats['acc']\n",
    "    train_loss= stats['loss']\n",
    "    test_acc= stats['val_acc']\n",
    "    test_loss= stats['val_loss']\n",
    "\n",
    "    acc_plot = plt.plot()\n",
    "    plt.plot(epochs, train_acc,'b-',label='Training Accuracy')\n",
    "    plt.plot(epochs, test_acc, 'r-',label='Testing Accuracy')\n",
    "    plt.title('Progression of Accuracy for '+name)\n",
    "    plt.xlabel('No. of Epochs')\n",
    "    plt.ylabel('Accuracy')\n",
    "    plt.grid(True)\n",
    "    plt.legend(loc='upper left')\n",
    "    plt.show()\n",
    "\n",
    "    loss_plot = plt.plot()\n",
    "    plt.plot(epochs, train_loss,'b-',label='Training Loss') \n",
    "    plt.plot(epochs, test_loss, 'r-',label='Testing Loss')\n",
    "    plt.title('Progression of Loss for '+name)\n",
    "    plt.xlabel('No. of Epochs')\n",
    "    plt.ylabel('Loss')\n",
    "    plt.grid(True)\n",
    "    plt.legend(loc='upper left')\n",
    "    plt.show()"
   ]
  },
  {
   "cell_type": "code",
   "execution_count": 5,
   "metadata": {
    "collapsed": false
   },
   "outputs": [],
   "source": [
    "def reset_model(init_type,opt):\n",
    "    model = Sequential()\n",
    "\n",
    "    model.add(Convolution2D(32, 3, 3, border_mode='same', input_shape=(1, opt['img_rows'], opt['img_cols']), init= init_type ))\n",
    "    model.add(Activation('relu'))\n",
    "    model.add(Convolution2D(32, 3, 3, init=  init_type))\n",
    "    model.add(Activation('relu'))\n",
    "    model.add(MaxPooling2D(pool_size=(2, 2)))\n",
    "    model.add(Dropout(0.25))\n",
    "\n",
    "    model.add(Convolution2D(64, 3, 3, border_mode='same',init= init_type))\n",
    "    model.add(Activation('relu'))\n",
    "    model.add(Convolution2D(64, 3, 3, init=init_type))\n",
    "    model.add(Activation('relu'))\n",
    "    model.add(MaxPooling2D(pool_size=(2, 2)))\n",
    "    model.add(Dropout(0.25))\n",
    "\n",
    "    model.add(Flatten())\n",
    "    model.add(Dense(512,init=init_type))\n",
    "    model.add(Activation('relu'))\n",
    "    model.add(Dropout(0.5))\n",
    "    model.add(Dense(opt['nb_classes'], init=init_type))\n",
    "    model.add(Activation('softmax'))\n",
    "    \n",
    "    optim = SGD(momentum=opt['momentum'])\n",
    "\n",
    "    return optim,model"
   ]
  },
  {
   "cell_type": "code",
   "execution_count": 6,
   "metadata": {
    "collapsed": true
   },
   "outputs": [],
   "source": [
    "def reset_regularized_model(init_type,opt):\n",
    "    model = Sequential()\n",
    "\n",
    "    model.add(Convolution2D(32, 3, 3, border_mode='same', input_shape=(1, opt['img_rows'], opt['img_cols']), init= init_type ,W_regularizer=l2(0.01)))\n",
    "    model.add(Activation('relu'))\n",
    "    model.add(Convolution2D(32, 3, 3, init=  init_type,W_regularizer=l2(0.01)))\n",
    "    model.add(Activation('relu'))\n",
    "    model.add(MaxPooling2D(pool_size=(2, 2)))\n",
    "    model.add(Dropout(0.25))\n",
    "\n",
    "    model.add(Convolution2D(64, 3, 3, border_mode='same',init= init_type,W_regularizer=l2(0.01)))\n",
    "    model.add(Activation('relu'))\n",
    "    model.add(Convolution2D(64, 3, 3, init=init_type,W_regularizer=l2(0.01)))\n",
    "    model.add(Activation('relu'))\n",
    "    model.add(MaxPooling2D(pool_size=(2, 2)))\n",
    "    model.add(Dropout(0.25))\n",
    "\n",
    "    model.add(Flatten())\n",
    "    model.add(Dense(512,init=init_type,W_regularizer=l2(0.01)))\n",
    "    model.add(Activation('relu'))\n",
    "    model.add(Dropout(0.5))\n",
    "    model.add(Dense(opt['nb_classes'], init=init_type,W_regularizer=l2(0.01)))\n",
    "    model.add(Activation('softmax'))\n",
    "    \n",
    "    optim = SGD(momentum=opt['momentum'])\n",
    "\n",
    "    return optim,model"
   ]
  },
  {
   "cell_type": "code",
   "execution_count": 7,
   "metadata": {
    "collapsed": false
   },
   "outputs": [],
   "source": [
    "init_type=opt['init']\n",
    "#optim,model = reset_model(init_type,opt)\n",
    "optim,model = reset_regularized_model(init_type,opt)"
   ]
  },
  {
   "cell_type": "code",
   "execution_count": 8,
   "metadata": {
    "collapsed": false
   },
   "outputs": [
    {
     "name": "stdout",
     "output_type": "stream",
     "text": [
      "Train on 60000 samples, validate on 10000 samples\n",
      "Epoch 1/5\n",
      "60000/60000 [==============================] - 7s - loss: 7.2594 - acc: 0.1124 - val_loss: 2.2871 - val_acc: 0.1236\n",
      "Epoch 2/5\n",
      "60000/60000 [==============================] - 7s - loss: 3.0322 - acc: 0.6656 - val_loss: 0.1727 - val_acc: 0.9492\n",
      "Epoch 3/5\n",
      "60000/60000 [==============================] - 7s - loss: 1.1580 - acc: 0.9321 - val_loss: 0.1210 - val_acc: 0.9637\n",
      "Epoch 4/5\n",
      "60000/60000 [==============================] - 7s - loss: 0.6683 - acc: 0.9480 - val_loss: 0.0980 - val_acc: 0.9670\n",
      "Epoch 5/5\n",
      "60000/60000 [==============================] - 7s - loss: 0.4794 - acc: 0.9544 - val_loss: 0.0904 - val_acc: 0.9717\n"
     ]
    }
   ],
   "source": [
    "model.compile(loss=opt['loss'],\n",
    "                  optimizer=optim,\n",
    "                  metrics=['accuracy'])\n",
    "\n",
    "stats= model.fit(X_train, Y_train,\n",
    "              batch_size=opt['batch_size'],\n",
    "              nb_epoch=opt['nb_epoch'],\n",
    "              validation_data=(X_test, Y_test),\n",
    "              shuffle=True)\n",
    "\n",
    "stats= stats.history"
   ]
  },
  {
   "cell_type": "code",
   "execution_count": 13,
   "metadata": {
    "collapsed": false
   },
   "outputs": [
    {
     "name": "stdout",
     "output_type": "stream",
     "text": [
      "10000/10000 [==============================] - 1s     \n",
      "Test score: 0.0904421995839\n",
      "Test accuracy: 0.9717\n"
     ]
    }
   ],
   "source": [
    "score = model.evaluate(X_test, Y_test, verbose=1)\n",
    "print('Test score:', score[0])\n",
    "print('Test accuracy:', score[1])"
   ]
  },
  {
   "cell_type": "code",
   "execution_count": 14,
   "metadata": {
    "collapsed": false
   },
   "outputs": [
    {
     "name": "stdout",
     "output_type": "stream",
     "text": [
      "____________________________________________________________________________________________________\n",
      "Layer (type)                     Output Shape          Param #     Connected to                     \n",
      "====================================================================================================\n",
      "convolution2d_1 (Convolution2D)  (None, 32, 28, 28)    320         convolution2d_input_1[0][0]      \n",
      "____________________________________________________________________________________________________\n",
      "activation_1 (Activation)        (None, 32, 28, 28)    0           convolution2d_1[0][0]            \n",
      "____________________________________________________________________________________________________\n",
      "convolution2d_2 (Convolution2D)  (None, 32, 26, 26)    9248        activation_1[0][0]               \n",
      "____________________________________________________________________________________________________\n",
      "activation_2 (Activation)        (None, 32, 26, 26)    0           convolution2d_2[0][0]            \n",
      "____________________________________________________________________________________________________\n",
      "maxpooling2d_1 (MaxPooling2D)    (None, 32, 13, 13)    0           activation_2[0][0]               \n",
      "____________________________________________________________________________________________________\n",
      "dropout_1 (Dropout)              (None, 32, 13, 13)    0           maxpooling2d_1[0][0]             \n",
      "____________________________________________________________________________________________________\n",
      "convolution2d_3 (Convolution2D)  (None, 64, 13, 13)    18496       dropout_1[0][0]                  \n",
      "____________________________________________________________________________________________________\n",
      "activation_3 (Activation)        (None, 64, 13, 13)    0           convolution2d_3[0][0]            \n",
      "____________________________________________________________________________________________________\n",
      "convolution2d_4 (Convolution2D)  (None, 64, 11, 11)    36928       activation_3[0][0]               \n",
      "____________________________________________________________________________________________________\n",
      "activation_4 (Activation)        (None, 64, 11, 11)    0           convolution2d_4[0][0]            \n",
      "____________________________________________________________________________________________________\n",
      "maxpooling2d_2 (MaxPooling2D)    (None, 64, 5, 5)      0           activation_4[0][0]               \n",
      "____________________________________________________________________________________________________\n",
      "dropout_2 (Dropout)              (None, 64, 5, 5)      0           maxpooling2d_2[0][0]             \n",
      "____________________________________________________________________________________________________\n",
      "flatten_1 (Flatten)              (None, 1600)          0           dropout_2[0][0]                  \n",
      "____________________________________________________________________________________________________\n",
      "dense_1 (Dense)                  (None, 512)           819712      flatten_1[0][0]                  \n",
      "____________________________________________________________________________________________________\n",
      "activation_5 (Activation)        (None, 512)           0           dense_1[0][0]                    \n",
      "____________________________________________________________________________________________________\n",
      "dropout_3 (Dropout)              (None, 512)           0           activation_5[0][0]               \n",
      "____________________________________________________________________________________________________\n",
      "dense_2 (Dense)                  (None, 10)            5130        dropout_3[0][0]                  \n",
      "____________________________________________________________________________________________________\n",
      "activation_6 (Activation)        (None, 10)            0           dense_2[0][0]                    \n",
      "====================================================================================================\n",
      "Total params: 889834\n",
      "____________________________________________________________________________________________________\n",
      "None\n"
     ]
    }
   ],
   "source": [
    "print(model.summary())"
   ]
  },
  {
   "cell_type": "code",
   "execution_count": 11,
   "metadata": {
    "collapsed": false
   },
   "outputs": [],
   "source": [
    "def weightdistribution(weights):\n",
    "    maxim= np.amax(weights)\n",
    "    minim= np.amin(weights)\n",
    "    step= (maxim-minim)/255\n",
    "    freq= np.zeros(256)\n",
    "    #print(type(freq))\n",
    "    m = weights.shape[0]\n",
    "    for i in range(0,m):\n",
    "        e= weights[i]\n",
    "        k=0\n",
    "        while (e >= minim + k*step):\n",
    "            k+=1\n",
    "        if ((k == 1) or ((minim + k*step - e) <= (e - minim + (k-1)*step))):\n",
    "            freq[k-1]+= 1\n",
    "        else:\n",
    "            freq[k-2]+= 1\n",
    "                \n",
    "    #np.savetxt('/users/soham.saha/compression/clusters_x.txt',(np.linspace(minim,maxim,256)))\n",
    "    #np.savetxt('/users/soham.saha/compression/freq_y.txt',freq)\n",
    "    #print(len(np.linspace(minim,maxim,256)))\n",
    "    return ((np.linspace(minim,maxim,256)),(freq))"
   ]
  },
  {
   "cell_type": "code",
   "execution_count": 12,
   "metadata": {
    "collapsed": false
   },
   "outputs": [
    {
     "name": "stdout",
     "output_type": "stream",
     "text": [
      "(32, 1, 3, 3)\n"
     ]
    },
    {
     "data": {
      "image/png": "[encoded data removed]",
      "text/plain": [
       "<matplotlib.figure.Figure at 0x7effba5c6c10>"
      ]
     },
     "metadata": {},
     "output_type": "display_data"
    }
   ],
   "source": [
    "mnist_weights = model.get_weights()\n",
    "weight = mnist_weights[0]\n",
    "\n",
    "print(weight.shape)\n",
    "plt.plot(weightdistribution(weight.flatten()))\n",
    "plt.show()"
   ]
  },
  {
   "cell_type": "code",
   "execution_count": null,
   "metadata": {
    "collapsed": true
   },
   "outputs": [],
   "source": []
  }
 ],
 "metadata": {
  "kernelspec": {
   "display_name": "Python [Root]",
   "language": "python",
   "name": "Python [Root]"
  },
  "language_info": {
   "codemirror_mode": {
    "name": "ipython",
    "version": 2
   },
   "file_extension": ".py",
   "mimetype": "text/x-python",
   "name": "python",
   "nbconvert_exporter": "python",
   "pygments_lexer": "ipython2",
   "version": "2.7.12"
  }
 },
 "nbformat": 4,
 "nbformat_minor": 0
}
