{
 "cells": [
  {
   "cell_type": "code",
   "execution_count": 11,
   "metadata": {
    "collapsed": false
   },
   "outputs": [],
   "source": [
    "from __future__ import print_function\n",
    "# To run on gpu\n",
    "import os    \n",
    "os.environ['THEANO_FLAGS'] = \"device=gpu0\"\n",
    "import numpy as np\n",
    "np.random.seed(1337)  # for reproducibility\n",
    "from sklearn.cluster import KMeans\n",
    "from keras.datasets import mnist\n",
    "from keras.models import Sequential\n",
    "from keras.layers import Dense, Dropout, Activation, Flatten\n",
    "from keras.layers import Convolution2D, MaxPooling2D\n",
    "from keras.utils import np_utils\n",
    "from keras.optimizers import *\n",
    "from keras import callbacks\n",
    "from keras.regularizers import l2, activity_l2\n",
    "import keras\n",
    "from pprint import *\n",
    "%matplotlib inline\n",
    "import matplotlib.pyplot as plt"
   ]
  },
  {
   "cell_type": "code",
   "execution_count": 12,
   "metadata": {
    "collapsed": false
   },
   "outputs": [
    {
     "name": "stdout",
     "output_type": "stream",
     "text": [
      "{'batch_size': 256,\n",
      " 'data_augmentation': False,\n",
      " 'decay': 1e-06,\n",
      " 'img_cols': 28,\n",
      " 'img_rows': 28,\n",
      " 'init': 'normal',\n",
      " 'loss': 'categorical_crossentropy',\n",
      " 'lr': 0.01,\n",
      " 'momentum': 0.9,\n",
      " 'nb_classes': 10,\n",
      " 'nb_epoch': 5,\n",
      " 'nesterov': True,\n",
      " 'optimizer': 'sgd'}\n"
     ]
    }
   ],
   "source": [
    "opt = {\n",
    "    'batch_size': 256,\n",
    "    'nb_classes': 10,\n",
    "    'nb_epoch':5,\n",
    "    'data_augmentation': False,\n",
    "    'lr':0.01,\n",
    "    'momentum':0.9,\n",
    "    'decay':1e-6,\n",
    "    'nesterov':True,\n",
    "    'init':'normal',\n",
    "    'optimizer':'sgd',\n",
    "    'loss':'categorical_crossentropy',\n",
    "    'img_rows':28,\n",
    "    'img_cols':28\n",
    "}\n",
    "\n",
    "pprint(opt)"
   ]
  },
  {
   "cell_type": "code",
   "execution_count": 3,
   "metadata": {
    "collapsed": false
   },
   "outputs": [
    {
     "name": "stdout",
     "output_type": "stream",
     "text": [
      "X_train shape: (60000, 1, 28, 28)\n",
      "60000 train samples\n",
      "10000 test samples\n"
     ]
    }
   ],
   "source": [
    "# the data, shuffled and split between train and test sets\n",
    "(X_train, y_train), (X_test, y_test) = mnist.load_data()\n",
    "\n",
    "X_train = X_train.reshape(X_train.shape[0], 1, opt['img_rows'], opt['img_cols'])\n",
    "X_test = X_test.reshape(X_test.shape[0], 1, opt['img_rows'], opt['img_cols'])\n",
    "X_train = X_train.astype('float32')\n",
    "X_test = X_test.astype('float32')\n",
    "X_train /= 255\n",
    "X_test /= 255\n",
    "print('X_train shape:', X_train.shape)\n",
    "print(X_train.shape[0], 'train samples')\n",
    "print(X_test.shape[0], 'test samples')\n",
    "# convert class vectors to binary class matrices\n",
    "Y_train = np_utils.to_categorical(y_train, opt['nb_classes'])\n",
    "Y_test = np_utils.to_categorical(y_test, opt['nb_classes'])"
   ]
  },
  {
   "cell_type": "code",
   "execution_count": 4,
   "metadata": {
    "collapsed": true
   },
   "outputs": [],
   "source": [
    "def plotLogs(stats,name):\n",
    "    epochs=list(range(1,opt['nb_epoch']+1))\n",
    "    train_acc= stats['acc']\n",
    "    train_loss= stats['loss']\n",
    "    test_acc= stats['val_acc']\n",
    "    test_loss= stats['val_loss']\n",
    "\n",
    "    acc_plot = plt.plot()\n",
    "    plt.plot(epochs, train_acc,'b-',label='Training Accuracy')\n",
    "    plt.plot(epochs, test_acc, 'r-',label='Testing Accuracy')\n",
    "    plt.title('Progression of Accuracy for '+name)\n",
    "    plt.xlabel('No. of Epochs')\n",
    "    plt.ylabel('Accuracy')\n",
    "    plt.grid(True)\n",
    "    plt.legend(loc='upper left')\n",
    "    plt.show()\n",
    "\n",
    "    loss_plot = plt.plot()\n",
    "    plt.plot(epochs, train_loss,'b-',label='Training Loss') \n",
    "    plt.plot(epochs, test_loss, 'r-',label='Testing Loss')\n",
    "    plt.title('Progression of Loss for '+name)\n",
    "    plt.xlabel('No. of Epochs')\n",
    "    plt.ylabel('Loss')\n",
    "    plt.grid(True)\n",
    "    plt.legend(loc='upper left')\n",
    "    plt.show()"
   ]
  },
  {
   "cell_type": "code",
   "execution_count": 5,
   "metadata": {
    "collapsed": true
   },
   "outputs": [],
   "source": [
    "def reset_regularized_model(init_type,opt):\n",
    "    model = Sequential()\n",
    "\n",
    "    model.add(Convolution2D(32, 3, 3, border_mode='same', input_shape=(1, opt['img_rows'], opt['img_cols']), init= init_type ,W_regularizer=l2(0.01)))\n",
    "    model.add(Activation('relu'))\n",
    "    model.add(Convolution2D(32, 3, 3, init=  init_type,W_regularizer=l2(0.01)))\n",
    "    model.add(Activation('relu'))\n",
    "    model.add(MaxPooling2D(pool_size=(2, 2)))\n",
    "    model.add(Dropout(0.25))\n",
    "\n",
    "    model.add(Convolution2D(64, 3, 3, border_mode='same',init= init_type,W_regularizer=l2(0.01)))\n",
    "    model.add(Activation('relu'))\n",
    "    model.add(Convolution2D(64, 3, 3, init=init_type,W_regularizer=l2(0.01)))\n",
    "    model.add(Activation('relu'))\n",
    "    model.add(MaxPooling2D(pool_size=(2, 2)))\n",
    "    model.add(Dropout(0.25))\n",
    "\n",
    "    model.add(Flatten())\n",
    "    model.add(Dense(512,init=init_type,W_regularizer=l2(0.01)))\n",
    "    model.add(Activation('relu'))\n",
    "    model.add(Dropout(0.5))\n",
    "    model.add(Dense(opt['nb_classes'], init=init_type,W_regularizer=l2(0.01)))\n",
    "    model.add(Activation('softmax'))\n",
    "    \n",
    "    optim = SGD(momentum=opt['momentum'])\n",
    "\n",
    "    return optim,model"
   ]
  },
  {
   "cell_type": "code",
   "execution_count": 6,
   "metadata": {
    "collapsed": true
   },
   "outputs": [],
   "source": [
    "init_type=opt['init']\n",
    "optim,model = reset_regularized_model(init_type,opt)"
   ]
  },
  {
   "cell_type": "code",
   "execution_count": 7,
   "metadata": {
    "collapsed": false
   },
   "outputs": [
    {
     "name": "stdout",
     "output_type": "stream",
     "text": [
      "Train on 60000 samples, validate on 10000 samples\n",
      "Epoch 1/5\n",
      "60000/60000 [==============================] - 7s - loss: 15.8493 - acc: 0.6759 - val_loss: 0.1411 - val_acc: 0.9583\n",
      "Epoch 2/5\n",
      "60000/60000 [==============================] - 7s - loss: 6.0737 - acc: 0.9389 - val_loss: 0.1028 - val_acc: 0.9668\n",
      "Epoch 3/5\n",
      "60000/60000 [==============================] - 7s - loss: 2.5381 - acc: 0.9528 - val_loss: 0.0822 - val_acc: 0.9745\n",
      "Epoch 4/5\n",
      "60000/60000 [==============================] - 7s - loss: 1.1853 - acc: 0.9574 - val_loss: 0.0825 - val_acc: 0.9745\n",
      "Epoch 5/5\n",
      "60000/60000 [==============================] - 7s - loss: 0.6653 - acc: 0.9616 - val_loss: 0.0780 - val_acc: 0.9779\n"
     ]
    }
   ],
   "source": [
    "optim,model = reset_regularized_model(init_type,opt)\n",
    "model.compile(loss=opt['loss'],\n",
    "                  optimizer=optim,\n",
    "                  metrics=['accuracy'])\n",
    "\n",
    "stats= model.fit(X_train, Y_train,\n",
    "              batch_size=opt['batch_size'],\n",
    "              nb_epoch=opt['nb_epoch'],\n",
    "              validation_data=(X_test, Y_test),\n",
    "              shuffle=True)\n",
    "\n",
    "stats= stats.history"
   ]
  },
  {
   "cell_type": "code",
   "execution_count": 8,
   "metadata": {
    "collapsed": false
   },
   "outputs": [
    {
     "name": "stdout",
     "output_type": "stream",
     "text": [
      " 9952/10000 [============================>.] - ETA: 0sTest score: 0.0780076080658\n",
      "Test accuracy: 0.9779\n"
     ]
    }
   ],
   "source": [
    "score = model.evaluate(X_test, Y_test, verbose=1)\n",
    "print('Test score:', score[0])\n",
    "print('Test accuracy:', score[1])"
   ]
  },
  {
   "cell_type": "code",
   "execution_count": 9,
   "metadata": {
    "collapsed": false
   },
   "outputs": [
    {
     "name": "stdout",
     "output_type": "stream",
     "text": [
      "____________________________________________________________________________________________________\n",
      "Layer (type)                     Output Shape          Param #     Connected to                     \n",
      "====================================================================================================\n",
      "convolution2d_5 (Convolution2D)  (None, 32, 28, 28)    320         convolution2d_input_2[0][0]      \n",
      "____________________________________________________________________________________________________\n",
      "activation_7 (Activation)        (None, 32, 28, 28)    0           convolution2d_5[0][0]            \n",
      "____________________________________________________________________________________________________\n",
      "convolution2d_6 (Convolution2D)  (None, 32, 26, 26)    9248        activation_7[0][0]               \n",
      "____________________________________________________________________________________________________\n",
      "activation_8 (Activation)        (None, 32, 26, 26)    0           convolution2d_6[0][0]            \n",
      "____________________________________________________________________________________________________\n",
      "maxpooling2d_3 (MaxPooling2D)    (None, 32, 13, 13)    0           activation_8[0][0]               \n",
      "____________________________________________________________________________________________________\n",
      "dropout_4 (Dropout)              (None, 32, 13, 13)    0           maxpooling2d_3[0][0]             \n",
      "____________________________________________________________________________________________________\n",
      "convolution2d_7 (Convolution2D)  (None, 64, 13, 13)    18496       dropout_4[0][0]                  \n",
      "____________________________________________________________________________________________________\n",
      "activation_9 (Activation)        (None, 64, 13, 13)    0           convolution2d_7[0][0]            \n",
      "____________________________________________________________________________________________________\n",
      "convolution2d_8 (Convolution2D)  (None, 64, 11, 11)    36928       activation_9[0][0]               \n",
      "____________________________________________________________________________________________________\n",
      "activation_10 (Activation)       (None, 64, 11, 11)    0           convolution2d_8[0][0]            \n",
      "____________________________________________________________________________________________________\n",
      "maxpooling2d_4 (MaxPooling2D)    (None, 64, 5, 5)      0           activation_10[0][0]              \n",
      "____________________________________________________________________________________________________\n",
      "dropout_5 (Dropout)              (None, 64, 5, 5)      0           maxpooling2d_4[0][0]             \n",
      "____________________________________________________________________________________________________\n",
      "flatten_2 (Flatten)              (None, 1600)          0           dropout_5[0][0]                  \n",
      "____________________________________________________________________________________________________\n",
      "dense_3 (Dense)                  (None, 512)           819712      flatten_2[0][0]                  \n",
      "____________________________________________________________________________________________________\n",
      "activation_11 (Activation)       (None, 512)           0           dense_3[0][0]                    \n",
      "____________________________________________________________________________________________________\n",
      "dropout_6 (Dropout)              (None, 512)           0           activation_11[0][0]              \n",
      "____________________________________________________________________________________________________\n",
      "dense_4 (Dense)                  (None, 10)            5130        dropout_6[0][0]                  \n",
      "____________________________________________________________________________________________________\n",
      "activation_12 (Activation)       (None, 10)            0           dense_4[0][0]                    \n",
      "====================================================================================================\n",
      "Total params: 889834\n",
      "____________________________________________________________________________________________________\n",
      "None\n"
     ]
    }
   ],
   "source": [
    "print(model.summary())"
   ]
  },
  {
   "cell_type": "code",
   "execution_count": 14,
   "metadata": {
    "collapsed": true
   },
   "outputs": [],
   "source": [
    "# Define the parameters for kmeans\n",
    "\n",
    "kmeans = KMeans(n_clusters=256, random_state=0,  max_iter=500, precompute_distances='auto', verbose=0)\n"
   ]
  },
  {
   "cell_type": "code",
   "execution_count": 15,
   "metadata": {
    "collapsed": true
   },
   "outputs": [],
   "source": [
    "def non_uniform_quantize(weight):\n",
    "    print(\"----------------------------------------------------\")\n",
    "    print(\"Number of unique parameters before quantization: \" + str(len(np.unique(weight))))\n",
    "\n",
    "    kmeans_fit = kmeans.fit(weight)\n",
    "    clusters = kmeans_fit.cluster_centers_\n",
    "    \n",
    "    for i in range(0,len(weight)):\n",
    "        dist= (clusters-weight[i])**2     \n",
    "        weight[i]=clusters[np.argmin(dist)]\n",
    "        \n",
    "    print(\"Number of unique parameters after quantization: \" + str(len(np.unique(weight))))\n",
    "    \n",
    "    return weight  "
   ]
  },
  {
   "cell_type": "code",
   "execution_count": 16,
   "metadata": {
    "collapsed": false
   },
   "outputs": [
    {
     "name": "stdout",
     "output_type": "stream",
     "text": [
      "----------------------------------------------------\n",
      "Number of unique parameters before quantization: 288\n",
      "Number of unique parameters after quantization: 91\n",
      "----------------------------------------------------\n",
      "Number of unique parameters before quantization: 32\n",
      "Number of unique parameters after quantization: 28\n",
      "----------------------------------------------------\n",
      "Number of unique parameters before quantization: 9216\n",
      "Number of unique parameters after quantization: 207\n",
      "----------------------------------------------------\n",
      "Number of unique parameters before quantization: 32\n",
      "Number of unique parameters after quantization: 28\n",
      "----------------------------------------------------\n",
      "Number of unique parameters before quantization: 18429\n",
      "Number of unique parameters after quantization: 228\n",
      "----------------------------------------------------\n",
      "Number of unique parameters before quantization: 64\n",
      "Number of unique parameters after quantization: 52\n",
      "----------------------------------------------------\n",
      "Number of unique parameters before quantization: 36855\n",
      "Number of unique parameters after quantization: 198\n",
      "----------------------------------------------------\n",
      "Number of unique parameters before quantization: 64\n",
      "Number of unique parameters after quantization: 54\n",
      "----------------------------------------------------\n",
      "Number of unique parameters before quantization: 814842\n",
      "Number of unique parameters after quantization: 227\n",
      "----------------------------------------------------\n",
      "Number of unique parameters before quantization: 512\n",
      "Number of unique parameters after quantization: 153\n",
      "----------------------------------------------------\n",
      "Number of unique parameters before quantization: 5120\n",
      "Number of unique parameters after quantization: 215\n",
      "----------------------------------------------------\n",
      "Number of unique parameters before quantization: 10\n",
      "Number of unique parameters after quantization: 9\n"
     ]
    }
   ],
   "source": [
    "#Make Sure the model has been trained before accumulating the weights\n",
    "\n",
    "mnist_weights = model.get_weights()\n",
    "\n",
    "for i in range(len(mnist_weights)):\n",
    "    weight = mnist_weights[i]\n",
    "    dims = weight.shape\n",
    "    weight = weight.flatten()\n",
    "    weight = uniform_quantize(weight)\n",
    "    weight=np.reshape(weight,dims)\n",
    "    mnist_weights[i]=weight\n",
    "    \n",
    "model.set_weights(mnist_weights)"
   ]
  },
  {
   "cell_type": "code",
   "execution_count": 17,
   "metadata": {
    "collapsed": false
   },
   "outputs": [
    {
     "name": "stdout",
     "output_type": "stream",
     "text": [
      " 9952/10000 [============================>.] - ETA: 0sTest score: 0.0779906072948\n",
      "Test accuracy: 0.9779\n"
     ]
    }
   ],
   "source": [
    "score = model.evaluate(X_test, Y_test, verbose=1)\n",
    "print('Test score:', score[0])\n",
    "print('Test accuracy:', score[1])"
   ]
  },
  {
   "cell_type": "code",
   "execution_count": null,
   "metadata": {
    "collapsed": true
   },
   "outputs": [],
   "source": []
  }
 ],
 "metadata": {
  "kernelspec": {
   "display_name": "Python [Root]",
   "language": "python",
   "name": "Python [Root]"
  },
  "language_info": {
   "codemirror_mode": {
    "name": "ipython",
    "version": 2
   },
   "file_extension": ".py",
   "mimetype": "text/x-python",
   "name": "python",
   "nbconvert_exporter": "python",
   "pygments_lexer": "ipython2",
   "version": "2.7.12"
  }
 },
 "nbformat": 4,
 "nbformat_minor": 0
}
